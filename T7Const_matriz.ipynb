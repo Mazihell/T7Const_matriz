{
  "cells": [
    {
      "cell_type": "markdown",
      "metadata": {
        "id": "view-in-github",
        "colab_type": "text"
      },
      "source": [
        "<a href=\"https://colab.research.google.com/github/Mazihell/T7Const_matriz/blob/main/T7Const_matriz.ipynb\" target=\"_parent\"><img src=\"https://colab.research.google.com/assets/colab-badge.svg\" alt=\"Open In Colab\"/></a>"
      ]
    },
    {
      "cell_type": "code",
      "execution_count": 1,
      "metadata": {
        "id": "PePagFsFLRcT"
      },
      "outputs": [],
      "source": [
        "from bs4 import BeautifulSoup\n",
        "from urllib.request import Request, urlopen"
      ]
    },
    {
      "cell_type": "code",
      "execution_count": 2,
      "metadata": {
        "colab": {
          "base_uri": "https://localhost:8080/"
        },
        "id": "HC9VranlLW_m",
        "outputId": "5b49dbca-9af0-4c1d-9ef9-f8f9fedf6488"
      },
      "outputs": [
        {
          "output_type": "stream",
          "name": "stderr",
          "text": [
            "[nltk_data] Downloading package punkt to /root/nltk_data...\n",
            "[nltk_data]   Unzipping tokenizers/punkt.zip.\n",
            "[nltk_data] Downloading package averaged_perceptron_tagger to\n",
            "[nltk_data]     /root/nltk_data...\n",
            "[nltk_data]   Unzipping taggers/averaged_perceptron_tagger.zip.\n",
            "[nltk_data] Downloading package stopwords to /root/nltk_data...\n",
            "[nltk_data]   Unzipping corpora/stopwords.zip.\n"
          ]
        }
      ],
      "source": [
        "import nltk\n",
        "import re\n",
        "#tokenizer\n",
        "nltk.download('punkt')\n",
        "#tagger pré treinado em inglês\n",
        "nltk.download('averaged_perceptron_tagger')\n",
        "#palavras para exclusão\n",
        "nltk.download('stopwords')\n",
        "from nltk.corpus import stopwords\n",
        "from sklearn.feature_extraction.text import TfidfVectorizer, CountVectorizer, TfidfTransformer\n",
        "\n"
      ]
    },
    {
      "cell_type": "code",
      "execution_count": 3,
      "metadata": {
        "id": "TZsbz0_lLxWm"
      },
      "outputs": [],
      "source": [
        "#Artigos em ingles para donwload\n",
        "link1 = Request('https://link.springer.com/article/10.1007/s42979-021-00592-x',headers={'User-Agent': 'Mozilla/5.0'})\n",
        "link2 = Request('https://link.springer.com/article/10.1007/s42979-022-01371-y',headers={'User-Agent': 'Mozilla/5.0'})\n",
        "link3 = Request('https://www.ibm.com/cloud/learn/neural-networks',headers={'User-Agent': 'Mozilla/5.0'})\n",
        "link4 = Request('https://realpython.com/python-ai-neural-network/',headers={'User-Agent': 'Mozilla/5.0'})\n",
        "link5 = Request('https://monkeylearn.com/text-classification/',headers={'User-Agent': 'Mozilla/5.0'})"
      ]
    },
    {
      "cell_type": "code",
      "execution_count": 4,
      "metadata": {
        "id": "7Bjt_ChyL0gu"
      },
      "outputs": [],
      "source": [
        "#armazenando da pagina na variavel\n",
        "pagina1 = urlopen(link1).read().decode('utf-8', 'ignore')\n",
        "pagina2 = urlopen(link2).read().decode('utf-8', 'ignore')\n",
        "pagina3 = urlopen(link3).read().decode('utf-8', 'ignore')\n",
        "pagina4 = urlopen(link4).read().decode('utf-8', 'ignore')\n",
        "pagina5 = urlopen(link5).read().decode('utf-8', 'ignore')"
      ]
    },
    {
      "cell_type": "code",
      "execution_count": 5,
      "metadata": {
        "id": "K9LblcS7L3ru"
      },
      "outputs": [],
      "source": [
        "soup1 = BeautifulSoup(pagina1, \"lxml\")\n",
        "soup2 = BeautifulSoup(pagina2, \"lxml\")\n",
        "soup3 = BeautifulSoup(pagina3, \"lxml\")\n",
        "soup4 = BeautifulSoup(pagina4, \"lxml\")\n",
        "soup5 = BeautifulSoup(pagina5, \"lxml\")\n",
        "#busca pelo ID do que precisa do html\n",
        "texto1 = soup1.find(id=\"Sec5-content\").text\n",
        "texto2 = soup2.find(id=\"Sec2-content\").text\n",
        "texto3 = soup3.find(id=\"layout-section-second\").text\n",
        "texto4 = soup4.find(id=\"artificial-intelligence-overview\").text\n",
        "texto5 = soup5.find(id=\"___gatsby\").text  \n",
        "#soup3.find_all(id=True)"
      ]
    },
    {
      "cell_type": "code",
      "execution_count": 6,
      "metadata": {
        "id": "dchRsIX1L6lW"
      },
      "outputs": [],
      "source": [
        "dados = [texto1, texto2, texto3, texto4, texto5]"
      ]
    },
    {
      "cell_type": "code",
      "execution_count": 7,
      "metadata": {
        "id": "uVRwosWWVfOX"
      },
      "outputs": [],
      "source": [
        "# criando os objetos com as expressões regulares\n",
        "remove_espec_carac = re.compile('[/(){}\\[\\]\\|@,;]')\n",
        "remove_symb = re.compile('[^0-9a-z #+_]')\n",
        "\n",
        "# criando um objeto para remoção de stopwords no idioma ingles\n",
        "stopwords = stopwords.words('english')\n",
        "\n",
        "# criando a função\n",
        "def text_prepare(text):\n",
        "    \n",
        "    # normalizando nosso texto em letras minúsculas\n",
        "    text = text.lower()\n",
        "    \n",
        "    # substituindo caracteres especiais por espaços em branco\n",
        "    text = remove_espec_carac.sub(' ', text)\n",
        "    \n",
        "    # retornando apenas letras e números\n",
        "    text = remove_symb.sub('', text)\n",
        "    \n",
        "    # removendo as stopwords\n",
        "    text = ' '.join(word for word in text.split() if word not in stopwords)\n",
        "    \n",
        "    # retornando o texto modificado\n",
        "    return text"
      ]
    },
    {
      "cell_type": "code",
      "execution_count": 8,
      "metadata": {
        "id": "MYfbaKA7VjsG"
      },
      "outputs": [],
      "source": [
        "# aplicando a função no texto\n",
        "texto = [text_prepare(x) for x in dados]"
      ]
    },
    {
      "cell_type": "code",
      "execution_count": 9,
      "metadata": {
        "id": "rLoKe4aWMBNv"
      },
      "outputs": [],
      "source": [
        "# instanciando o TF-IDF\n",
        "tfidf = TfidfVectorizer()\n",
        "resultado  = tfidf.fit_transform(texto)\n"
      ]
    },
    {
      "cell_type": "code",
      "execution_count": 10,
      "metadata": {
        "colab": {
          "base_uri": "https://localhost:8080/"
        },
        "id": "L2F3ymOqUtYI",
        "outputId": "aedd6632-a19b-4b69-8db1-2813c07a8760"
      },
      "outputs": [
        {
          "output_type": "stream",
          "name": "stdout",
          "text": [
            "Shape:  (5, 2926)\n",
            "\n",
            "tf-idf valores em forma de matrix:\n",
            "[[0.         0.         0.         ... 0.0064832  0.0064832  0.        ]\n",
            " [0.         0.         0.02289695 ... 0.         0.         0.        ]\n",
            " [0.         0.02042147 0.         ... 0.         0.         0.02042147]\n",
            " [0.         0.         0.         ... 0.         0.         0.        ]\n",
            " [0.01291697 0.         0.         ... 0.         0.         0.        ]]\n"
          ]
        }
      ],
      "source": [
        "r = resultado.toarray()\n",
        "#print(resultado.toarray())\n",
        "print(\"Shape: \",r.shape)\n",
        "print('\\ntf-idf valores em forma de matrix:')\n",
        "print(r)\n",
        "\n"
      ]
    }
  ],
  "metadata": {
    "colab": {
      "collapsed_sections": [],
      "provenance": [],
      "include_colab_link": true
    },
    "kernelspec": {
      "display_name": "Python 3.9.7 ('base')",
      "language": "python",
      "name": "python3"
    },
    "language_info": {
      "codemirror_mode": {
        "name": "ipython",
        "version": 3
      },
      "file_extension": ".py",
      "mimetype": "text/x-python",
      "name": "python",
      "nbconvert_exporter": "python",
      "pygments_lexer": "ipython3",
      "version": "3.9.7"
    },
    "vscode": {
      "interpreter": {
        "hash": "a552c2ea7a7b6736ba4a8b66efcb40eda8d77c5e9d980e5b81f29aecaaefb085"
      }
    }
  },
  "nbformat": 4,
  "nbformat_minor": 0
}